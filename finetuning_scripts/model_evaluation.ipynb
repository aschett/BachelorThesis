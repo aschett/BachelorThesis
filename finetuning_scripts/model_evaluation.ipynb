{
 "cells": [
  {
   "cell_type": "markdown",
   "metadata": {},
   "source": [
    "### Model Testing Script\n",
    "\n",
    "This script performs a evaluation fo the difference between a pretrained and a fine-tuned model.\n"
   ]
  },
  {
   "cell_type": "markdown",
   "metadata": {},
   "source": [
    "### Change Model name here to switch which one you want to test"
   ]
  },
  {
   "cell_type": "code",
   "execution_count": null,
   "metadata": {},
   "outputs": [],
   "source": [
    "augmented_dataset = 1\n",
    "model_name = \"unsloth/llama-3-8b-bnb-4bit\"  # Change this to switch models\n",
    "if augmented_dataset:\n",
    "    model_dir = f'../finetuned_models/outputmodel_{model_name.split(\"/\")[-1]}'\n",
    "else:\n",
    "    model_dir = f'../finetuned_models/outputmodel_{model_name.split(\"/\")[-1]}_augmented_dataset'"
   ]
  },
  {
   "cell_type": "markdown",
   "metadata": {},
   "source": [
    "### Step 1: Load dependencies"
   ]
  },
  {
   "cell_type": "code",
   "execution_count": null,
   "metadata": {},
   "outputs": [],
   "source": [
    "import os\n",
    "import torch\n",
    "from transformers import AutoModelForSequenceClassification, AutoTokenizer\n",
    "from torch.utils.data import DataLoader\n",
    "from tqdm import tqdm\n",
    "from sklearn.metrics import accuracy_score, precision_score, recall_score, f1_score\n",
    "import pandas as pd\n",
    "from datasets import Dataset\n",
    "import matplotlib.pyplot as plt\n"
   ]
  },
  {
   "cell_type": "markdown",
   "metadata": {},
   "source": [
    "### Step 2: Clear Cuda cache"
   ]
  },
  {
   "cell_type": "code",
   "execution_count": null,
   "metadata": {},
   "outputs": [],
   "source": [
    "def clear_cuda_cache():\n",
    "    torch.cuda.empty_cache()\n",
    "\n",
    "clear_cuda_cache()"
   ]
  },
  {
   "cell_type": "markdown",
   "metadata": {},
   "source": [
    "### Step 3: Load the Fine-tuned Model and Tokenizer"
   ]
  },
  {
   "cell_type": "code",
   "execution_count": null,
   "metadata": {},
   "outputs": [],
   "source": [
    "\n",
    "finetuned_model = AutoModelForSequenceClassification.from_pretrained(model_dir, low_cpu_mem_usage=True)\n",
    "tokenizer = AutoTokenizer.from_pretrained(model_dir)"
   ]
  },
  {
   "cell_type": "markdown",
   "metadata": {},
   "source": [
    "### Step 4: Load the pre-finetuned model for comparison"
   ]
  },
  {
   "cell_type": "code",
   "execution_count": null,
   "metadata": {},
   "outputs": [],
   "source": [
    "pretrained_model_name = 'unsloth/llama-3-8b-bnb-4bit'\n",
    "pretrained_model = AutoModelForSequenceClassification.from_pretrained(pretrained_model_name, low_cpu_mem_usage=True)"
   ]
  },
  {
   "cell_type": "markdown",
   "metadata": {},
   "source": [
    "### Step 5: Load and Preprocess Validation Dataset"
   ]
  },
  {
   "cell_type": "code",
   "execution_count": null,
   "metadata": {},
   "outputs": [],
   "source": [
    "try:\n",
    "    val_df = pd.read_csv(os.path.join(model_dir, 'val_dataset.csv'))\n",
    "    print(\"Validation dataset loaded successfully.\")\n",
    "except FileNotFoundError:\n",
    "    raise FileNotFoundError(f\"Error: The file was not found.\")\n",
    "\n",
    "try:\n",
    "    val_dataset = Dataset.from_pandas(val_df)\n",
    "    print(\"Validation dataset converted to Huggingface Dataset successfully.\")\n",
    "except Exception as e:\n",
    "    raise RuntimeError(f\"Error converting validation DataFrame to Dataset: {e}\")\n",
    "\n",
    "def tokenize_function(examples):\n",
    "    if 'Quote' not in examples:\n",
    "        raise KeyError(\"Error: 'Quote' column not found in dataset.\")\n",
    "    return tokenizer(examples['Quote'], padding='max_length', truncation=True)\n",
    "\n",
    "val_dataset = val_dataset.map(tokenize_function, batched=True)\n",
    "val_dataset.set_format(type='torch', columns=['input_ids', 'attention_mask', 'Memorable'])\n",
    "val_dataloader = DataLoader(val_dataset, batch_size=4)"
   ]
  },
  {
   "cell_type": "markdown",
   "metadata": {},
   "source": [
    "### Step 6: Define Evaluation Function and evaluate both models"
   ]
  },
  {
   "cell_type": "code",
   "execution_count": null,
   "metadata": {},
   "outputs": [],
   "source": [
    "def evaluate_model(model, dataloader):\n",
    "    model.eval()\n",
    "    predictions, true_labels = [], []\n",
    "\n",
    "    with torch.no_grad():\n",
    "        for batch in tqdm(dataloader, desc='Evaluating Model'):\n",
    "            input_ids = batch['input_ids']\n",
    "            attention_mask = batch['attention_mask']\n",
    "            labels = batch['Memorable']\n",
    "\n",
    "            outputs = model(input_ids, attention_mask=attention_mask)\n",
    "            logits = outputs.logits\n",
    "            preds = torch.argmax(logits, dim=-1)\n",
    "\n",
    "            predictions.extend(preds.cpu().numpy())\n",
    "            true_labels.extend(labels.cpu().numpy())\n",
    "\n",
    "    accuracy = accuracy_score(true_labels, predictions)\n",
    "    precision = precision_score(true_labels, predictions)\n",
    "    recall = recall_score(true_labels, predictions)\n",
    "    f1 = f1_score(true_labels, predictions)\n",
    "\n",
    "    return accuracy, precision, recall, f1\n",
    "\n",
    "# Evaluate pre-trained model\n",
    "pretrained_metrics = evaluate_model(pretrained_model, val_dataloader)\n",
    "print(f'Pre-Trained Model - Accuracy: {pretrained_metrics[0]:.4f}, Precision: {pretrained_metrics[1]:.4f}, Recall: {pretrained_metrics[2]:.4f}, F1 Score: {pretrained_metrics[3]:.4f}')\n",
    "\n",
    "# Evaluate fine-tuned model\n",
    "finetuned_metrics = evaluate_model(finetuned_model, val_dataloader)\n",
    "print(f'Fine-Tuned Model - Accuracy: {finetuned_metrics[0]:.4f}, Precision: {finetuned_metrics[1]:.4f}, Recall: {finetuned_metrics[2]:.4f}, F1 Score: {finetuned_metrics[3]:.4f}')\n"
   ]
  },
  {
   "cell_type": "markdown",
   "metadata": {},
   "source": [
    "### Step 7: Visualize Model Performance"
   ]
  },
  {
   "cell_type": "code",
   "execution_count": null,
   "metadata": {},
   "outputs": [],
   "source": [
    "\n",
    "graphics_folder = '../graphics/'\n",
    "\n",
    "# Data for visualization\n",
    "metrics = ['Accuracy', 'Precision', 'Recall', 'F1 Score']\n",
    "pretrained_scores = list(pretrained_metrics)\n",
    "finetuned_scores = list(finetuned_metrics)\n",
    "\n",
    "x = range(len(metrics))\n",
    "\n",
    "plt.figure(figsize=(10, 6))\n",
    "plt.bar(x, pretrained_scores, width=0.4, label='Pre-Trained', align='center')\n",
    "plt.bar(x, finetuned_scores, width=0.4, label='Fine-Tuned', align='edge')\n",
    "\n",
    "plt.xticks(x, metrics)\n",
    "plt.ylim(0, 1)\n",
    "plt.ylabel('Score')\n",
    "plt.title('Comparison of Pre-Trained and Fine-Tuned Model Performance')\n",
    "plt.legend()\n",
    "\n",
    "\n",
    "plot_save_path = os.path.join(graphics_folder, 'model_performance_comparison.png')\n",
    "try:\n",
    "    if not os.path.exists(graphics_folder):\n",
    "        os.makedirs(graphics_folder)\n",
    "\n",
    "    plt.savefig(plot_save_path, bbox_inches='tight')\n",
    "    print(f'Plot saved successfully at {plot_save_path}')\n",
    "\n",
    "except PermissionError:\n",
    "    print(f'Permission denied: Unable to save the plot to {plot_save_path}.')\n",
    "except FileNotFoundError:\n",
    "    print(f'Directory {model_dir} not found or cannot be created.')\n",
    "except Exception as e:\n",
    "    print(f'An unexpected error occurred while saving the plot: {e}')\n",
    "\n",
    "# Display the plot\n",
    "plt.show()"
   ]
  }
 ],
 "metadata": {
  "kernelspec": {
   "display_name": "Python 3",
   "language": "python",
   "name": "python3"
  },
  "language_info": {
   "codemirror_mode": {
    "name": "ipython",
    "version": 3
   },
   "file_extension": ".py",
   "mimetype": "text/x-python",
   "name": "python",
   "nbconvert_exporter": "python",
   "pygments_lexer": "ipython3",
   "version": "3.10.13"
  }
 },
 "nbformat": 4,
 "nbformat_minor": 2
}
